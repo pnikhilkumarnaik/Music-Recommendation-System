{
 "cells": [
  {
   "cell_type": "code",
   "id": "initial_id",
   "metadata": {
    "collapsed": true,
    "ExecuteTime": {
     "end_time": "2025-02-24T12:32:17.870295Z",
     "start_time": "2025-02-24T12:32:06.799995Z"
    }
   },
   "source": [
    "# Import necessary libraries\n",
    "import pandas as pd\n",
    "import numpy as np\n",
    "from sklearn.feature_extraction.text import TfidfVectorizer\n",
    "from sklearn.neighbors import NearestNeighbors\n",
    "from scipy.sparse import csr_matrix\n",
    "from flask import Flask, request, jsonify\n",
    "import faiss  # Optimized similarity search"
   ],
   "outputs": [],
   "execution_count": 1
  },
  {
   "metadata": {
    "ExecuteTime": {
     "end_time": "2025-02-24T12:32:19.881918Z",
     "start_time": "2025-02-24T12:32:19.594199Z"
    }
   },
   "cell_type": "code",
   "source": "df = pd.read_csv(\"dataset/lyrics.csv\")",
   "id": "b27b3a964c0a2fc7",
   "outputs": [],
   "execution_count": 2
  },
  {
   "metadata": {
    "ExecuteTime": {
     "end_time": "2025-02-24T12:32:20.729877Z",
     "start_time": "2025-02-24T12:32:20.719420Z"
    }
   },
   "cell_type": "code",
   "source": [
    "# Ensure column names have no spaces\n",
    "df.columns = df.columns.str.strip()"
   ],
   "id": "16e7282e9ec2dd64",
   "outputs": [],
   "execution_count": 3
  },
  {
   "metadata": {
    "ExecuteTime": {
     "end_time": "2025-02-24T12:32:29.258420Z",
     "start_time": "2025-02-24T12:32:29.038444Z"
    }
   },
   "cell_type": "code",
   "source": [
    "# Preprocess text data (Using song names instead of lyrics)\n",
    "vectorizer = TfidfVectorizer(stop_words='english', max_features=10000)\n",
    "tfidf_matrix = vectorizer.fit_transform(df['name'].fillna(\"\"))  # Handle missing song names"
   ],
   "id": "7f9d88d64d0189fc",
   "outputs": [],
   "execution_count": 4
  },
  {
   "metadata": {
    "ExecuteTime": {
     "end_time": "2025-02-24T12:32:31.064040Z",
     "start_time": "2025-02-24T12:32:31.057599Z"
    }
   },
   "cell_type": "code",
   "source": [
    "# Convert to CSR matrix for efficient storage\n",
    "song_features = csr_matrix(tfidf_matrix)"
   ],
   "id": "dff01f638e249749",
   "outputs": [],
   "execution_count": 5
  },
  {
   "metadata": {
    "ExecuteTime": {
     "end_time": "2025-02-24T12:32:38.581804Z",
     "start_time": "2025-02-24T12:32:33.055642Z"
    }
   },
   "cell_type": "code",
   "source": [
    "# Convert sparse matrix to dense format for Faiss (Faiss requires float32 arrays)\n",
    "song_features_array = song_features.toarray().astype('float32')"
   ],
   "id": "4eb0f16f1dd6ed01",
   "outputs": [],
   "execution_count": 6
  },
  {
   "metadata": {
    "ExecuteTime": {
     "end_time": "2025-02-24T12:32:44.475282Z",
     "start_time": "2025-02-24T12:32:43.513545Z"
    }
   },
   "cell_type": "code",
   "source": [
    "# Train KNN model using Faiss for fast search\n",
    "index = faiss.IndexFlatIP(song_features.shape[1])  # Inner Product for similarity\n",
    "index.add(song_features_array)  # Add song feature vectors to the index\n"
   ],
   "id": "df0414ddab48dfce",
   "outputs": [],
   "execution_count": 7
  },
  {
   "metadata": {
    "ExecuteTime": {
     "end_time": "2025-02-24T12:32:46.396659Z",
     "start_time": "2025-02-24T12:32:46.386380Z"
    }
   },
   "cell_type": "code",
   "source": "print(f\"✅ Faiss index built with {index.ntotal} songs.\")",
   "id": "f09c928d4468b612",
   "outputs": [
    {
     "name": "stdout",
     "output_type": "stream",
     "text": [
      "✅ Faiss index built with 28372 songs.\n"
     ]
    }
   ],
   "execution_count": 8
  },
  {
   "metadata": {
    "ExecuteTime": {
     "end_time": "2025-02-24T12:32:49.268335Z",
     "start_time": "2025-02-24T12:32:49.262139Z"
    }
   },
   "cell_type": "code",
   "source": "print(song_features_array.shape)",
   "id": "cecef48bc158e17b",
   "outputs": [
    {
     "name": "stdout",
     "output_type": "stream",
     "text": [
      "(28372, 10000)\n"
     ]
    }
   ],
   "execution_count": 9
  },
  {
   "metadata": {
    "ExecuteTime": {
     "end_time": "2025-02-24T12:32:57.614259Z",
     "start_time": "2025-02-24T12:32:57.588715Z"
    }
   },
   "cell_type": "code",
   "source": [
    "def recommend_songs(query, df, vectorizer, index, top_n=20):\n",
    "    \"\"\"\n",
    "    Recommend top N similar songs based on a given query (song name, artist name, or lyrics).\n",
    "    \"\"\"\n",
    "    # Check if query is in dataset (song name or artist name)\n",
    "    song_match = df[df['name'].str.lower() == query.lower()]\n",
    "    artist_match = df[df['artists'].str.lower() == query.lower()]\n",
    "\n",
    "    if not song_match.empty:\n",
    "        song_lyrics = song_match['lyrics'].values[0]\n",
    "        song_genre = song_match['genre'].values[0]\n",
    "        print(\"Song is present in the dataset. Here are the recommendations:\")\n",
    "    elif not artist_match.empty:\n",
    "        song_lyrics = ' '.join(artist_match['lyrics'].dropna().values)\n",
    "        song_genre = artist_match['genre'].values[0]\n",
    "        print(\"Artist is present in the dataset. Here are the recommendations:\")\n",
    "    else:\n",
    "        print(\"Here are the nearest recommended songs:\")\n",
    "        return recommend_nearest_songs(query, df, vectorizer, index, top_n)\n",
    "\n",
    "    # Generate recommendations\n",
    "    query_vector = vectorizer.transform([song_lyrics])\n",
    "    query_vector = query_vector.toarray().astype('float32')\n",
    "    _, song_indices = index.search(query_vector, top_n)\n",
    "    recommendations = df.iloc[song_indices[0]].copy()\n",
    "    recommendations['similarity_score'] = _[0]\n",
    "\n",
    "    # Check genre similarity\n",
    "    relevant_recommendations = recommendations[recommendations['genre'] == song_genre]\n",
    "\n",
    "    if relevant_recommendations.empty:\n",
    "        print(\"The recommended songs are not fully relevant. After Providing the lyrics of the song for better recommendations.\")\n",
    "        lyrics = input(\"Enter lyrics of the song: \")\n",
    "        return recommend_lyrics_song(lyrics, df, vectorizer, index, top_n)\n",
    "    else:\n",
    "        print(\"All the recommended songs are most relevant.\")\n",
    "\n",
    "    return relevant_recommendations[['name', 'artists', 'genre', 'similarity_score']]\n",
    "\n",
    "\n",
    "def recommend_lyrics_song(lyrics, df, vectorizer, index, top_n=20):\n",
    "    \"\"\"\n",
    "    Recommend songs for an unseen song (not in dataset) based on lyrics similarity.\n",
    "    \"\"\"\n",
    "    query_vector = vectorizer.transform([lyrics])\n",
    "    query_vector = query_vector.toarray().astype('float32')\n",
    "    _, song_indices = index.search(query_vector, top_n)\n",
    "    recommendations = df.iloc[song_indices[0]].copy()\n",
    "    recommendations['similarity_score'] = _[0]\n",
    "\n",
    "    print(\"The possible recommended songs are like this:\")\n",
    "    return recommendations[['name', 'artists', 'genre', 'similarity_score']]\n",
    "\n",
    "def recommend_nearest_songs(query, df, vectorizer, index, top_n=20):\n",
    "    \"\"\"\n",
    "    Recommend songs that are closest to the given query.\n",
    "    \"\"\"\n",
    "    query_vector = vectorizer.transform([query])\n",
    "    query_vector = query_vector.toarray().astype('float32')\n",
    "    _, song_indices = index.search(query_vector, top_n)\n",
    "    recommendations = df.iloc[song_indices[0]].copy()\n",
    "    recommendations['similarity_score'] = _[0]\n",
    "\n",
    "    print(\"The possible recommended songs are :\")\n",
    "    return recommendations[['name', 'artists', 'genre', 'similarity_score']]\n"
   ],
   "id": "e7866c18ca9e9a96",
   "outputs": [],
   "execution_count": 10
  },
  {
   "metadata": {
    "ExecuteTime": {
     "end_time": "2025-02-24T12:35:13.443829Z",
     "start_time": "2025-02-24T12:34:04.273346Z"
    }
   },
   "cell_type": "code",
   "source": [
    "query_type = input(\"What are you providing? (song/artist/lyrics): \").strip().lower()\n",
    "song_query = input(f\"Enter the {query_type}: \")\n",
    "\n",
    "recommendations = recommend_songs(song_query, df, vectorizer, index,top_n=5)\n",
    "print(recommendations)\n"
   ],
   "id": "3df8718678b69f82",
   "outputs": [
    {
     "name": "stdout",
     "output_type": "stream",
     "text": [
      "Song is present in the dataset. Here are the recommendations:\n",
      "The recommended songs are not fully relevant. After Providing the lyrics of the song for better recommendations.\n",
      "The possible recommended songs are like this:\n",
      "                           name         artists    genre  similarity_score\n",
      "22680          saw her standing       ballyhoo!   reggae          0.382465\n",
      "3333   i saw him standing there         tiffany      pop          0.382465\n",
      "5759                  flashback   calvin harris      pop          0.342065\n",
      "10492              party lights    junior brown  country          0.340556\n",
      "8676    you can close your eyes  linda ronstadt  country          0.322255\n"
     ]
    }
   ],
   "execution_count": 12
  },
  {
   "metadata": {},
   "cell_type": "code",
   "outputs": [],
   "execution_count": null,
   "source": "",
   "id": "a422c01035e23edd"
  }
 ],
 "metadata": {
  "kernelspec": {
   "display_name": "Python 3",
   "language": "python",
   "name": "python3"
  },
  "language_info": {
   "codemirror_mode": {
    "name": "ipython",
    "version": 2
   },
   "file_extension": ".py",
   "mimetype": "text/x-python",
   "name": "python",
   "nbconvert_exporter": "python",
   "pygments_lexer": "ipython2",
   "version": "2.7.6"
  }
 },
 "nbformat": 4,
 "nbformat_minor": 5
}
